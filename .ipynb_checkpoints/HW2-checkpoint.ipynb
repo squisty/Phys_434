{
 "cells": [
  {
   "cell_type": "code",
   "execution_count": 103,
   "metadata": {},
   "outputs": [],
   "source": [
    "%matplotlib inline\n",
    "import numpy as np\n",
    "import matplotlib\n",
    "import matplotlib.pyplot as plt\n",
    "import scipy\n",
    "from scipy import stats\n",
    "np.random.seed(2)"
   ]
  },
  {
   "cell_type": "markdown",
   "metadata": {},
   "source": [
    "# 1."
   ]
  },
  {
   "cell_type": "markdown",
   "metadata": {},
   "source": [
    "The rolling of 2 dice that sum to 7 is more likely, as there are 6 combinations of dice that would sum to 7, as opposed to the single combination that results in snake eyes. The ratio of the probabilities is (1/36)/(6/36) = 1/6."
   ]
  },
  {
   "cell_type": "markdown",
   "metadata": {},
   "source": [
    "# 2."
   ]
  },
  {
   "cell_type": "code",
   "execution_count": 104,
   "metadata": {},
   "outputs": [],
   "source": [
    "sums = [2,3,4,5,6,7,8,9,10,11,12]\n",
    "weights = [1/36,2/36,3/36,4/36,5/36,6/36,5/36,4/36,3/36,2/36,1/36]\n",
    "# weights calculated through counting"
   ]
  },
  {
   "cell_type": "code",
   "execution_count": 106,
   "metadata": {},
   "outputs": [
    {
     "data": {
      "image/png": "[encoded data removed]",
      "text/plain": [
       "<Figure size 432x288 with 1 Axes>"
      ]
     },
     "metadata": {
      "needs_background": "light"
     },
     "output_type": "display_data"
    }
   ],
   "source": [
    "fig, ax = plt.subplots(1,1)\n",
    "rolls = np.array([1,2,3,4,5,6])\n",
    "w_rolls = np.array([1/6,1/6,1/6,1/6,1/6,1/6])\n",
    "res = np.zeros([10000,1])\n",
    "for i in range(0,10000):\n",
    "    v = np.random.randint(1,7,2)\n",
    "    res[i] = sum(v)\n",
    "ax.hist(res,bins=len(sums),density=True,alpha=.5);\n",
    "w_con = np.convolve(w_rolls,w_rolls)\n",
    "ax.plot(sums,w_con,linewidth=4);"
   ]
  },
  {
   "cell_type": "markdown",
   "metadata": {},
   "source": [
    "# 3."
   ]
  },
  {
   "cell_type": "code",
   "execution_count": 107,
   "metadata": {},
   "outputs": [
    {
     "name": "stdout",
     "output_type": "stream",
     "text": [
      "7.0\n"
     ]
    }
   ],
   "source": [
    "# Using the expectation value formula to derive the mean\n",
    "mean = sum(sums*w_con)\n",
    "print(mean)"
   ]
  },
  {
   "cell_type": "code",
   "execution_count": 108,
   "metadata": {},
   "outputs": [
    {
     "name": "stdout",
     "output_type": "stream",
     "text": [
      "5.833333333333334\n"
     ]
    }
   ],
   "source": [
    "# Using the mean to determine the variance\n",
    "xi = (sums-mean)**2\n",
    "xs = sum(xi*w_con)\n",
    "print(xs)"
   ]
  },
  {
   "cell_type": "markdown",
   "metadata": {},
   "source": [
    "These values make sense since 7 is the most probable value, and the distribution is even on either side of 7. The variance makes sense since the standard deviation is the square root of the variance and thus approximately 2.415. 2 standard deviations away from the mean of 7 is 11.83, and any value higher than that should account for approximately 2.2% of the total probability, which it does since the probability for rolling a 12 as a sum is very close to that value."
   ]
  },
  {
   "cell_type": "markdown",
   "metadata": {},
   "source": [
    "# 4."
   ]
  },
  {
   "cell_type": "code",
   "execution_count": 162,
   "metadata": {},
   "outputs": [
    {
     "data": {
      "image/png": "[encoded data removed]",
      "text/plain": [
       "<Figure size 432x288 with 1 Axes>"
      ]
     },
     "metadata": {
      "needs_background": "light"
     },
     "output_type": "display_data"
    }
   ],
   "source": [
    "# Histogram of averages\n",
    "fig, ax = plt.subplots(1,1)\n",
    "rolls = np.array([1,2,3,4,5,6])\n",
    "w_rolls = np.array([1/6,1/6,1/6,1/6,1/6,1/6])\n",
    "res10 = np.zeros([10000,1])\n",
    "avg10 = np.zeros([10000,1])\n",
    "for i in range(0,10000):\n",
    "    v10 = np.random.randint(1,7,10)\n",
    "    res10[i] = sum(v10)\n",
    "    avg10[i] = res10[i]/(10)\n",
    "mu, std = stats.norm.fit(avg10)\n",
    "ax.hist(avg10,bins=50,density=True,alpha=.5);"
   ]
  },
  {
   "cell_type": "markdown",
   "metadata": {},
   "source": [
    "The average does follow a gaussian distribution. Since the average is proportional to the sum distribution, it follows a gaussian distribution as well. The clear peak and wing pattern of the histogram points directly to a gaussian."
   ]
  },
  {
   "cell_type": "markdown",
   "metadata": {},
   "source": [
    "# 5."
   ]
  },
  {
   "cell_type": "code",
   "execution_count": 163,
   "metadata": {},
   "outputs": [
    {
     "data": {
      "image/png": "[encoded data removed]",
      "text/plain": [
       "<Figure size 432x288 with 1 Axes>"
      ]
     },
     "metadata": {
      "needs_background": "light"
     },
     "output_type": "display_data"
    }
   ],
   "source": [
    "# Histogram of possible sums and associated probabilities\n",
    "fig, ax = plt.subplots(1,1)\n",
    "rolls = np.array([1,2,3,4,5,6])\n",
    "w_rolls = np.array([1/6,1/6,1/6,1/6,1/6,1/6])\n",
    "res10 = np.zeros([10000,1])\n",
    "for i in range(0,10000):\n",
    "    v10 = np.random.randint(1,7,10)\n",
    "    res10[i] = sum(v10)\n",
    "mu, std = stats.norm.fit(avg10)\n",
    "ax.hist(res10,bins=50,density=True,alpha=.5);"
   ]
  },
  {
   "cell_type": "markdown",
   "metadata": {},
   "source": [
    "The average of the histogram above was graphed in problem 4, and clearly follows the gaussian distribution that the overall sums and probabilities follow. The sum of an initially gaussian distribution will also be a gaussian because the characteristic functions of two random variables can be derived to get the summed characteristic function, which is just the same as the initial function except adding the second variable into where the first variable was. Thus the distribution does not undergo any changes to the shape of it. The resulting standard deviation is the square root of the two variances added together, which is smaller than if the two standard deviations were just added together. For example, the variance of A and B is 25, and their standard deviations are both 5. The standard deviation of the sum of these two variables is the square root of 50, which is greater than a single standard deviation and less than if they were both added together. What this means for integrating a signal over time is that the standard deviation changes for increases or decreases in the signals shape. We must re-evaluate the distribution for separate times if we are to get an accurate standard deviation."
   ]
  },
  {
   "cell_type": "code",
   "execution_count": null,
   "metadata": {},
   "outputs": [],
   "source": []
  }
 ],
 "metadata": {
  "kernelspec": {
   "display_name": "Python 3",
   "language": "python",
   "name": "python3"
  },
  "language_info": {
   "codemirror_mode": {
    "name": "ipython",
    "version": 3
   },
   "file_extension": ".py",
   "mimetype": "text/x-python",
   "name": "python",
   "nbconvert_exporter": "python",
   "pygments_lexer": "ipython3",
   "version": "3.6.8"
  }
 },
 "nbformat": 4,
 "nbformat_minor": 2
}
